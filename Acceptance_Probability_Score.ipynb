{
  "nbformat": 4,
  "nbformat_minor": 0,
  "metadata": {
    "colab": {
      "name": "Acceptance Probability Score.ipynb",
      "provenance": [],
      "include_colab_link": true
    },
    "kernelspec": {
      "display_name": "Python 3",
      "name": "python3"
    },
    "language_info": {
      "name": "python"
    }
  },
  "cells": [
    {
      "cell_type": "markdown",
      "metadata": {
        "id": "view-in-github",
        "colab_type": "text"
      },
      "source": [
        "<a href=\"https://colab.research.google.com/github/sc1abhis/BURGERBUILDER/blob/main/Acceptance_Probability_Score.ipynb\" target=\"_parent\"><img src=\"https://colab.research.google.com/assets/colab-badge.svg\" alt=\"Open In Colab\"/></a>"
      ]
    },
    {
      "cell_type": "code",
      "metadata": {
        "id": "xbx4qVVNEwld",
        "colab": {
          "base_uri": "https://localhost:8080/"
        },
        "outputId": "101a5f9f-8538-427e-e767-ddcc189f20dc"
      },
      "source": [
        "import numpy as np\n",
        "import pandas as pd\n",
        "import sklearn\n",
        "from sklearn.linear_model import LogisticRegression\n",
        "from sklearn.model_selection import train_test_split, cross_validate,GridSearchCV\n",
        "from sklearn.metrics import roc_curve,roc_auc_score,confusion_matrix,classification_report,precision_score,recall_score,accuracy_score\n",
        "import matplotlib.pyplot as plt\n",
        "import imblearn\n",
        "from imblearn.over_sampling import SMOTE"
      ],
      "execution_count": null,
      "outputs": [
        {
          "output_type": "stream",
          "name": "stderr",
          "text": [
            "/usr/local/lib/python3.7/dist-packages/sklearn/externals/six.py:31: FutureWarning: The module is deprecated in version 0.21 and will be removed in version 0.23 since we've dropped support for Python 2.7. Please rely on the official version of six (https://pypi.org/project/six/).\n",
            "  \"(https://pypi.org/project/six/).\", FutureWarning)\n",
            "/usr/local/lib/python3.7/dist-packages/sklearn/utils/deprecation.py:144: FutureWarning: The sklearn.neighbors.base module is  deprecated in version 0.22 and will be removed in version 0.24. The corresponding classes / functions should instead be imported from sklearn.neighbors. Anything that cannot be imported from sklearn.neighbors is now part of the private API.\n",
            "  warnings.warn(message, FutureWarning)\n"
          ]
        }
      ]
    },
    {
      "cell_type": "code",
      "metadata": {
        "colab": {
          "base_uri": "https://localhost:8080/"
        },
        "id": "2IDM1IO9uF-M",
        "outputId": "064c5bfe-6e97-4c2a-e118-2f6176c13883"
      },
      "source": [
        "from google.colab import drive\n",
        "drive.mount('/content/drive')"
      ],
      "execution_count": null,
      "outputs": [
        {
          "output_type": "stream",
          "name": "stdout",
          "text": [
            "Mounted at /content/drive\n"
          ]
        }
      ]
    },
    {
      "cell_type": "code",
      "metadata": {
        "id": "HgPmTSNnZ3-o"
      },
      "source": [
        "data = pd.read_excel(r'/content/drive/MyDrive/Colab Notebooks/APS Algo/Input File2.xlsx',sheet_name = [0,1,2,3])"
      ],
      "execution_count": null,
      "outputs": []
    },
    {
      "cell_type": "code",
      "metadata": {
        "id": "ZO5hNLjQbCJT"
      },
      "source": [
        "data_1819 = data[0]\n",
        "data_1920 = data[1]\n",
        "data_2021 = data[2]\n",
        "data_amcat = data[3]"
      ],
      "execution_count": null,
      "outputs": []
    },
    {
      "cell_type": "code",
      "metadata": {
        "id": "1TUoX-3KxmqL"
      },
      "source": [
        "# data_1819 = pd.read_csv('/content/drive/MyDrive/Colab Notebooks/APS Algo/201819 Data.csv')\n",
        "# data_1920 = pd.read_csv('/content/drive/MyDrive/Colab Notebooks/APS Algo/201920 Data.csv')\n",
        "# data_2021 = pd.read_csv('/content/drive/MyDrive/Colab Notebooks/APS Algo/202021 Data.csv')\n",
        "# data_amcat =pd.read_csv('/content/drive/MyDrive/Colab Notebooks/APS Algo/AMCAT Mapping - Old to New.csv')"
      ],
      "execution_count": null,
      "outputs": []
    },
    {
      "cell_type": "code",
      "metadata": {
        "id": "Qdnyve5FqLaa"
      },
      "source": [
        "col = ['18-19 eng','18-19 sjt','19-20 eng','19-20 sjt','20-21 eng','20-21 sjt']\n",
        "data_amcat = data_amcat[col]"
      ],
      "execution_count": null,
      "outputs": []
    },
    {
      "cell_type": "code",
      "metadata": {
        "id": "k5d_b9IsqPdF"
      },
      "source": [
        "def essay_scores(df):\n",
        "    fit_essay = df['Fit Essay Word Count']\n",
        "    fit_essay_score = []\n",
        "    for i in fit_essay:\n",
        "        if i<=100:\n",
        "            fit_essay_score.append(1)\n",
        "        elif i>100 and i<=250:\n",
        "            fit_essay_score.append(2)\n",
        "        elif i>250 and i<=400:\n",
        "            fit_essay_score.append(3)\n",
        "        elif i>400 and i<=800:\n",
        "            fit_essay_score.append(4)\n",
        "        else :\n",
        "            fit_essay_score.append(5)\n",
        "    grit_essay = df['Grit Essay Word Count']\n",
        "    grit_essay_score = []\n",
        "    for i in grit_essay:\n",
        "        if i<=100:\n",
        "            grit_essay_score.append(1)\n",
        "        elif i>100 and i<=250:\n",
        "            grit_essay_score.append(2)\n",
        "        elif i>250 and i<=375:\n",
        "            grit_essay_score.append(3)\n",
        "        elif i>375 and i<=750:\n",
        "            grit_essay_score.append(4)\n",
        "        else :\n",
        "            grit_essay_score.append(5)\n",
        "    return fit_essay_score,grit_essay_score"
      ],
      "execution_count": null,
      "outputs": []
    },
    {
      "cell_type": "code",
      "metadata": {
        "id": "nA_qXUHcqqPK",
        "colab": {
          "base_uri": "https://localhost:8080/"
        },
        "outputId": "df6c411d-0c2e-442d-df7f-64f00ce52eb7"
      },
      "source": [
        "col = ['Acceptance Probability Score (2019)','Acceptance Probability Score','Higher Secondary School Percentage','Higher Secondary School GPA Received', 'AMCAT English Score','AMCAT Situational Judgement Score','Grit Essay Word Count', 'Fit Essay Word Count','Undergraduate Final Percentage','Undergraduate Selectivity', 'Undergraduate Stream','Contact Master Status/Final Outcome','Leading Self Academic: Overall Score']\n",
        "data_1819 = data_1819[col]       \n",
        "data_1819.loc[:,'AMCAT English Score'] = data_amcat.loc[:,'18-19 eng']        \n",
        "data_1819.loc[:,'AMCAT Situational Judgement Score'] = data_amcat.loc[:,'18-19 sjt']          \n",
        "fit_score,grit_score = essay_scores(data_1819)       \n",
        "#data_1819['Fit Essay Score'] = fit_score\n",
        "#data_1819['Grit Essay Score'] = grit_score\n",
        "data_1920 = data_1920[col]       \n",
        "data_1920.loc[:,'AMCAT English Score'] = data_amcat.loc[:,'19-20 eng']        \n",
        "data_1920.loc[:,'AMCAT Situational Judgement Score'] = data_amcat.loc[:,'19-20 sjt']          \n",
        "fit_score,grit_score = essay_scores(data_1920)       \n",
        "#data_1920['Fit Essay Score'] = fit_score\n",
        "#data_1920['Grit Essay Score'] = grit_score\n",
        "data_2021 = data_2021[col]       \n",
        "data_2021.loc[:,'AMCAT English Score'] = data_amcat.loc[:,'20-21 eng']        \n",
        "data_2021.loc[:,'AMCAT Situational Judgement Score'] = data_amcat.loc[:,'20-21 sjt']          \n",
        "fit_score,grit_score = essay_scores(data_2021)       \n",
        "#data_2021['Fit Essay Score'] = fit_score\n",
        "#data_2021['Grit Essay Score'] = grit_score\n",
        "final = data_1819.append(data_1920,ignore_index=True)\n",
        "#temp = data_1819.append(data_1920,ignore_index=True)\n",
        "#final = temp.append(data_2021,ignore_index=True)\n",
        "temp2 = final.copy()"
      ],
      "execution_count": null,
      "outputs": [
        {
          "output_type": "stream",
          "name": "stderr",
          "text": [
            "/usr/local/lib/python3.7/dist-packages/pandas/core/indexing.py:1743: SettingWithCopyWarning: \n",
            "A value is trying to be set on a copy of a slice from a DataFrame.\n",
            "Try using .loc[row_indexer,col_indexer] = value instead\n",
            "\n",
            "See the caveats in the documentation: https://pandas.pydata.org/pandas-docs/stable/user_guide/indexing.html#returning-a-view-versus-a-copy\n",
            "  isetter(ilocs[0], value)\n"
          ]
        }
      ]
    },
    {
      "cell_type": "code",
      "metadata": {
        "id": "zfTHYn9Equv3"
      },
      "source": [
        "f,g = essay_scores(temp2)\n",
        "temp2['Fit Essay Score']=f\n",
        "temp2['Grit Essay Score']=g"
      ],
      "execution_count": null,
      "outputs": []
    },
    {
      "cell_type": "code",
      "metadata": {
        "id": "RLTkBEuKqv9d"
      },
      "source": [
        "c = temp2.copy()\n",
        "#c = c[col]\n",
        "exclude = ['Phone Review- Recommend Assessment Center','Phone Review- No Show','First Review- Recommend Phone Review','Assessment Center- No Show','Withdrew from process','Assessment Center- No Signup','Ineligible']\n",
        "count = 0\n",
        "for i in c['Contact Master Status/Final Outcome']:\n",
        "    if i in exclude:\n",
        "        c.drop(count,inplace=True)\n",
        "    count+=1\n",
        "#print(c['Contact Master Status/Final Outcome'].unique())\n",
        "status = []\n",
        "for i in c['Contact Master Status/Final Outcome']:\n",
        "    if \"Reject\" in i:\n",
        "        status.append(0)\n",
        "    else :\n",
        "        status.append(1)\n",
        "c['Status'] = status\n",
        "#c['Contact Master Status/Final Outcome'].unique()"
      ],
      "execution_count": null,
      "outputs": []
    },
    {
      "cell_type": "code",
      "metadata": {
        "colab": {
          "base_uri": "https://localhost:8080/"
        },
        "id": "Jo6_-enYrDHJ",
        "outputId": "39e31533-18d5-4bfa-dad7-46553dc63b8d"
      },
      "source": [
        "col = ['Higher Secondary School Percentage','AMCAT English Score',\n",
        "       'AMCAT Situational Judgement Score','Leading Self Academic: Overall Score', 'Fit Essay Score',\n",
        "       'Grit Essay Score', 'Status']\n",
        "df=c[col].dropna()\n",
        "df.dropna(inplace=True)\n",
        "df.isna().sum()"
      ],
      "execution_count": null,
      "outputs": [
        {
          "output_type": "execute_result",
          "data": {
            "text/plain": [
              "Higher Secondary School Percentage      0\n",
              "AMCAT English Score                     0\n",
              "AMCAT Situational Judgement Score       0\n",
              "Leading Self Academic: Overall Score    0\n",
              "Fit Essay Score                         0\n",
              "Grit Essay Score                        0\n",
              "Status                                  0\n",
              "dtype: int64"
            ]
          },
          "metadata": {},
          "execution_count": 12
        }
      ]
    },
    {
      "cell_type": "code",
      "metadata": {
        "colab": {
          "base_uri": "https://localhost:8080/"
        },
        "id": "R8uujeEJrH-u",
        "outputId": "f553b848-e182-421e-8846-86c82d33cd8a"
      },
      "source": [
        "ytemp = df['Status']\n",
        "x,y = SMOTE().fit_resample(df,ytemp)\n",
        "col = ['Higher Secondary School Percentage','AMCAT English Score',\n",
        "       'AMCAT Situational Judgement Score','Leading Self Academic: Overall Score', 'Fit Essay Score',\n",
        "       'Grit Essay Score', 'Status']\n",
        "x = pd.DataFrame(x , columns = col)\n",
        "x.drop('Status',axis=1,inplace=True)\n",
        "set(y)"
      ],
      "execution_count": null,
      "outputs": [
        {
          "output_type": "stream",
          "name": "stderr",
          "text": [
            "/usr/local/lib/python3.7/dist-packages/sklearn/utils/deprecation.py:87: FutureWarning: Function safe_indexing is deprecated; safe_indexing is deprecated in version 0.22 and will be removed in version 0.24.\n",
            "  warnings.warn(msg, category=FutureWarning)\n"
          ]
        },
        {
          "output_type": "execute_result",
          "data": {
            "text/plain": [
              "{0, 1}"
            ]
          },
          "metadata": {},
          "execution_count": 18
        }
      ]
    },
    {
      "cell_type": "code",
      "metadata": {
        "colab": {
          "base_uri": "https://localhost:8080/"
        },
        "id": "a4RJvtJfnh8W",
        "outputId": "e074506f-72de-40f7-9dbd-01bbe87d5b52"
      },
      "source": [
        "x.shape"
      ],
      "execution_count": null,
      "outputs": [
        {
          "output_type": "execute_result",
          "data": {
            "text/plain": [
              "(40056, 6)"
            ]
          },
          "metadata": {},
          "execution_count": 20
        }
      ]
    },
    {
      "cell_type": "code",
      "metadata": {
        "id": "R9YFM1cTrJQ9"
      },
      "source": [
        "fs = x['Fit Essay Score'].values\n",
        "fes = pd.Categorical(fs,categories=[1,2,3,4,5],ordered=True)\n",
        "fess = pd.Series(fes,x.index)\n",
        "x['Fit Essay Score'] = fess\n",
        "gs = x['Grit Essay Score'].values\n",
        "ges = pd.Categorical(gs,categories=[1,2,3,4,5],ordered=True)\n",
        "gess = pd.Series(ges,x.index)\n",
        "x['Grit Essay Score'] = gess\n",
        "ls = x['Leading Self Academic: Overall Score'].values\n",
        "les = pd.Categorical(ls,categories=[1,2,3,4,5],ordered=True)\n",
        "less = pd.Series(les,x.index)\n",
        "x['Leading Self Academic: Overall Score'] = less"
      ],
      "execution_count": null,
      "outputs": []
    },
    {
      "cell_type": "code",
      "metadata": {
        "colab": {
          "base_uri": "https://localhost:8080/"
        },
        "id": "AyaDbS9MrQeg",
        "outputId": "93e41360-300d-44d0-87d3-eb283828bc4e"
      },
      "source": [
        "X_train,X_test,y_train,y_test=train_test_split(x,y,test_size=0.25)\n",
        "X_train.shape\n",
        "##X_train.dropna()\n"
      ],
      "execution_count": null,
      "outputs": [
        {
          "output_type": "execute_result",
          "data": {
            "text/plain": [
              "(30042, 6)"
            ]
          },
          "metadata": {},
          "execution_count": 22
        }
      ]
    },
    {
      "cell_type": "code",
      "metadata": {
        "id": "KwVenyoxw1fd"
      },
      "source": [
        "## np.any(np.isnan(X_train))\n",
        "## X_train.dropna(inplace=True)\n",
        "##X_train = X_train.reset_index()\n",
        "\n",
        "##X_train.replace([np.inf, -np.inf], np.nan, inplace=True)"
      ],
      "execution_count": null,
      "outputs": []
    },
    {
      "cell_type": "code",
      "metadata": {
        "colab": {
          "base_uri": "https://localhost:8080/",
          "height": 297
        },
        "id": "hUflIFMzwg_u",
        "outputId": "cef21741-797d-4f3b-d47e-318d58fd94b8"
      },
      "source": [
        "X_train.describe()"
      ],
      "execution_count": null,
      "outputs": [
        {
          "output_type": "execute_result",
          "data": {
            "text/html": [
              "<div>\n",
              "<style scoped>\n",
              "    .dataframe tbody tr th:only-of-type {\n",
              "        vertical-align: middle;\n",
              "    }\n",
              "\n",
              "    .dataframe tbody tr th {\n",
              "        vertical-align: top;\n",
              "    }\n",
              "\n",
              "    .dataframe thead th {\n",
              "        text-align: right;\n",
              "    }\n",
              "</style>\n",
              "<table border=\"1\" class=\"dataframe\">\n",
              "  <thead>\n",
              "    <tr style=\"text-align: right;\">\n",
              "      <th></th>\n",
              "      <th>Higher Secondary School Percentage</th>\n",
              "      <th>AMCAT English Score</th>\n",
              "      <th>AMCAT Situational Judgement Score</th>\n",
              "    </tr>\n",
              "  </thead>\n",
              "  <tbody>\n",
              "    <tr>\n",
              "      <th>count</th>\n",
              "      <td>30042.000000</td>\n",
              "      <td>30042.000000</td>\n",
              "      <td>30042.000000</td>\n",
              "    </tr>\n",
              "    <tr>\n",
              "      <th>mean</th>\n",
              "      <td>77.800178</td>\n",
              "      <td>60.658467</td>\n",
              "      <td>55.045587</td>\n",
              "    </tr>\n",
              "    <tr>\n",
              "      <th>std</th>\n",
              "      <td>13.106766</td>\n",
              "      <td>25.279971</td>\n",
              "      <td>23.108584</td>\n",
              "    </tr>\n",
              "    <tr>\n",
              "      <th>min</th>\n",
              "      <td>0.000000</td>\n",
              "      <td>0.000000</td>\n",
              "      <td>0.000000</td>\n",
              "    </tr>\n",
              "    <tr>\n",
              "      <th>25%</th>\n",
              "      <td>68.804945</td>\n",
              "      <td>51.000000</td>\n",
              "      <td>48.366250</td>\n",
              "    </tr>\n",
              "    <tr>\n",
              "      <th>50%</th>\n",
              "      <td>79.509831</td>\n",
              "      <td>67.500000</td>\n",
              "      <td>63.000000</td>\n",
              "    </tr>\n",
              "    <tr>\n",
              "      <th>75%</th>\n",
              "      <td>88.897067</td>\n",
              "      <td>78.000000</td>\n",
              "      <td>69.000000</td>\n",
              "    </tr>\n",
              "    <tr>\n",
              "      <th>max</th>\n",
              "      <td>100.000000</td>\n",
              "      <td>98.000000</td>\n",
              "      <td>100.000000</td>\n",
              "    </tr>\n",
              "  </tbody>\n",
              "</table>\n",
              "</div>"
            ],
            "text/plain": [
              "       Higher Secondary School Percentage  ...  AMCAT Situational Judgement Score\n",
              "count                        30042.000000  ...                       30042.000000\n",
              "mean                            77.800178  ...                          55.045587\n",
              "std                             13.106766  ...                          23.108584\n",
              "min                              0.000000  ...                           0.000000\n",
              "25%                             68.804945  ...                          48.366250\n",
              "50%                             79.509831  ...                          63.000000\n",
              "75%                             88.897067  ...                          69.000000\n",
              "max                            100.000000  ...                         100.000000\n",
              "\n",
              "[8 rows x 3 columns]"
            ]
          },
          "metadata": {},
          "execution_count": 23
        }
      ]
    },
    {
      "cell_type": "code",
      "metadata": {
        "colab": {
          "base_uri": "https://localhost:8080/",
          "height": 374
        },
        "id": "dJB4LtqHrUqn",
        "outputId": "54f80a34-ee31-419a-e74c-7819bc80c766"
      },
      "source": [
        "from sklearn.ensemble import RandomForestClassifier\n",
        "rfc = RandomForestClassifier()\n",
        "rfc.fit(X_train,y_train)\n",
        "ypred = rfc.predict(X_test)\n",
        "prob_rfc = rfc.predict_proba(X_test)[:,1]"
      ],
      "execution_count": null,
      "outputs": [
        {
          "output_type": "error",
          "ename": "ValueError",
          "evalue": "ignored",
          "traceback": [
            "\u001b[0;31m---------------------------------------------------------------------------\u001b[0m",
            "\u001b[0;31mValueError\u001b[0m                                Traceback (most recent call last)",
            "\u001b[0;32m<ipython-input-24-ab6b7a01cc76>\u001b[0m in \u001b[0;36m<module>\u001b[0;34m()\u001b[0m\n\u001b[1;32m      1\u001b[0m \u001b[0;32mfrom\u001b[0m \u001b[0msklearn\u001b[0m\u001b[0;34m.\u001b[0m\u001b[0mensemble\u001b[0m \u001b[0;32mimport\u001b[0m \u001b[0mRandomForestClassifier\u001b[0m\u001b[0;34m\u001b[0m\u001b[0;34m\u001b[0m\u001b[0m\n\u001b[1;32m      2\u001b[0m \u001b[0mrfc\u001b[0m \u001b[0;34m=\u001b[0m \u001b[0mRandomForestClassifier\u001b[0m\u001b[0;34m(\u001b[0m\u001b[0;34m)\u001b[0m\u001b[0;34m\u001b[0m\u001b[0;34m\u001b[0m\u001b[0m\n\u001b[0;32m----> 3\u001b[0;31m \u001b[0mrfc\u001b[0m\u001b[0;34m.\u001b[0m\u001b[0mfit\u001b[0m\u001b[0;34m(\u001b[0m\u001b[0mX_train\u001b[0m\u001b[0;34m,\u001b[0m\u001b[0my_train\u001b[0m\u001b[0;34m)\u001b[0m\u001b[0;34m\u001b[0m\u001b[0;34m\u001b[0m\u001b[0m\n\u001b[0m\u001b[1;32m      4\u001b[0m \u001b[0mypred\u001b[0m \u001b[0;34m=\u001b[0m \u001b[0mrfc\u001b[0m\u001b[0;34m.\u001b[0m\u001b[0mpredict\u001b[0m\u001b[0;34m(\u001b[0m\u001b[0mX_test\u001b[0m\u001b[0;34m)\u001b[0m\u001b[0;34m\u001b[0m\u001b[0;34m\u001b[0m\u001b[0m\n\u001b[1;32m      5\u001b[0m \u001b[0mprob_rfc\u001b[0m \u001b[0;34m=\u001b[0m \u001b[0mrfc\u001b[0m\u001b[0;34m.\u001b[0m\u001b[0mpredict_proba\u001b[0m\u001b[0;34m(\u001b[0m\u001b[0mX_test\u001b[0m\u001b[0;34m)\u001b[0m\u001b[0;34m[\u001b[0m\u001b[0;34m:\u001b[0m\u001b[0;34m,\u001b[0m\u001b[0;36m1\u001b[0m\u001b[0;34m]\u001b[0m\u001b[0;34m\u001b[0m\u001b[0;34m\u001b[0m\u001b[0m\n",
            "\u001b[0;32m/usr/local/lib/python3.7/dist-packages/sklearn/ensemble/_forest.py\u001b[0m in \u001b[0;36mfit\u001b[0;34m(self, X, y, sample_weight)\u001b[0m\n\u001b[1;32m    293\u001b[0m         \"\"\"\n\u001b[1;32m    294\u001b[0m         \u001b[0;31m# Validate or convert input data\u001b[0m\u001b[0;34m\u001b[0m\u001b[0;34m\u001b[0m\u001b[0;34m\u001b[0m\u001b[0m\n\u001b[0;32m--> 295\u001b[0;31m         \u001b[0mX\u001b[0m \u001b[0;34m=\u001b[0m \u001b[0mcheck_array\u001b[0m\u001b[0;34m(\u001b[0m\u001b[0mX\u001b[0m\u001b[0;34m,\u001b[0m \u001b[0maccept_sparse\u001b[0m\u001b[0;34m=\u001b[0m\u001b[0;34m\"csc\"\u001b[0m\u001b[0;34m,\u001b[0m \u001b[0mdtype\u001b[0m\u001b[0;34m=\u001b[0m\u001b[0mDTYPE\u001b[0m\u001b[0;34m)\u001b[0m\u001b[0;34m\u001b[0m\u001b[0;34m\u001b[0m\u001b[0m\n\u001b[0m\u001b[1;32m    296\u001b[0m         \u001b[0my\u001b[0m \u001b[0;34m=\u001b[0m \u001b[0mcheck_array\u001b[0m\u001b[0;34m(\u001b[0m\u001b[0my\u001b[0m\u001b[0;34m,\u001b[0m \u001b[0maccept_sparse\u001b[0m\u001b[0;34m=\u001b[0m\u001b[0;34m'csc'\u001b[0m\u001b[0;34m,\u001b[0m \u001b[0mensure_2d\u001b[0m\u001b[0;34m=\u001b[0m\u001b[0;32mFalse\u001b[0m\u001b[0;34m,\u001b[0m \u001b[0mdtype\u001b[0m\u001b[0;34m=\u001b[0m\u001b[0;32mNone\u001b[0m\u001b[0;34m)\u001b[0m\u001b[0;34m\u001b[0m\u001b[0;34m\u001b[0m\u001b[0m\n\u001b[1;32m    297\u001b[0m         \u001b[0;32mif\u001b[0m \u001b[0msample_weight\u001b[0m \u001b[0;32mis\u001b[0m \u001b[0;32mnot\u001b[0m \u001b[0;32mNone\u001b[0m\u001b[0;34m:\u001b[0m\u001b[0;34m\u001b[0m\u001b[0;34m\u001b[0m\u001b[0m\n",
            "\u001b[0;32m/usr/local/lib/python3.7/dist-packages/sklearn/utils/validation.py\u001b[0m in \u001b[0;36mcheck_array\u001b[0;34m(array, accept_sparse, accept_large_sparse, dtype, order, copy, force_all_finite, ensure_2d, allow_nd, ensure_min_samples, ensure_min_features, warn_on_dtype, estimator)\u001b[0m\n\u001b[1;32m    576\u001b[0m         \u001b[0;32mif\u001b[0m \u001b[0mforce_all_finite\u001b[0m\u001b[0;34m:\u001b[0m\u001b[0;34m\u001b[0m\u001b[0;34m\u001b[0m\u001b[0m\n\u001b[1;32m    577\u001b[0m             _assert_all_finite(array,\n\u001b[0;32m--> 578\u001b[0;31m                                allow_nan=force_all_finite == 'allow-nan')\n\u001b[0m\u001b[1;32m    579\u001b[0m \u001b[0;34m\u001b[0m\u001b[0m\n\u001b[1;32m    580\u001b[0m     \u001b[0;32mif\u001b[0m \u001b[0mensure_min_samples\u001b[0m \u001b[0;34m>\u001b[0m \u001b[0;36m0\u001b[0m\u001b[0;34m:\u001b[0m\u001b[0;34m\u001b[0m\u001b[0;34m\u001b[0m\u001b[0m\n",
            "\u001b[0;32m/usr/local/lib/python3.7/dist-packages/sklearn/utils/validation.py\u001b[0m in \u001b[0;36m_assert_all_finite\u001b[0;34m(X, allow_nan, msg_dtype)\u001b[0m\n\u001b[1;32m     58\u001b[0m                     \u001b[0mmsg_err\u001b[0m\u001b[0;34m.\u001b[0m\u001b[0mformat\u001b[0m\u001b[0;34m\u001b[0m\u001b[0;34m\u001b[0m\u001b[0m\n\u001b[1;32m     59\u001b[0m                     (type_err,\n\u001b[0;32m---> 60\u001b[0;31m                      msg_dtype if msg_dtype is not None else X.dtype)\n\u001b[0m\u001b[1;32m     61\u001b[0m             )\n\u001b[1;32m     62\u001b[0m     \u001b[0;31m# for object dtype data, we only check for NaNs (GH-13254)\u001b[0m\u001b[0;34m\u001b[0m\u001b[0;34m\u001b[0m\u001b[0;34m\u001b[0m\u001b[0m\n",
            "\u001b[0;31mValueError\u001b[0m: Input contains NaN, infinity or a value too large for dtype('float32')."
          ]
        }
      ]
    },
    {
      "cell_type": "code",
      "metadata": {
        "id": "velngXnorhHh"
      },
      "source": [
        "col = ['Higher Secondary School Percentage','AMCAT English Score',\n",
        "       'AMCAT Situational Judgement Score','Leading Self Academic: Overall Score', 'Fit Essay Score',\n",
        "       'Grit Essay Score']\n",
        "f,g = essay_scores(data_2021)\n",
        "data_2021['Fit Essay Score']=f\n",
        "data_2021['Grit Essay Score']=g\n",
        "col.append('Contact Master Status/Final Outcome')\n",
        "col.append('Acceptance Probability Score')\n",
        "d = data_2021[col]\n",
        "​\n",
        "copy = d.copy()\n",
        "copy['Contact Master Status/Final Outcome'].unique()\n",
        "​\n",
        "#exclude = ['Phone Review- Recommend Assessment Center','Phone Review- No Show','First Review- Recommend Phone Review','Assessment Center- No Show','Withdrew from process','Assessment Center- No Signup','Ineligible']\n",
        "exclude = ['Phone Review- Recommend Assessment Center','First Review- Recommend Phone Review','Withdrew from process','Ineligible']\n",
        "count = 0\n",
        "for i in copy['Contact Master Status/Final Outcome']:\n",
        "    if i in exclude:\n",
        "        copy.drop(count,inplace=True)\n",
        "    count+=1\n",
        "#t = copy.copy()\n",
        "status = []\n",
        "for i in copy['Contact Master Status/Final Outcome']:\n",
        "    if (\"Reject\"  in i) or (\"No Show\"  in i) or (\"Signup\"  in i):\n",
        "        status.append(0)\n",
        "    else :\n",
        "        status.append(1)\n",
        "copy['Status'] = status\n",
        "#copy['Contact Master Status/Final Outcome'].unique()"
      ],
      "execution_count": null,
      "outputs": []
    },
    {
      "cell_type": "code",
      "metadata": {
        "id": "grjSRew4roQ0"
      },
      "source": [
        "test = copy.dropna()\n",
        "y_test = test['Status']\n",
        "​\n",
        "ypr = rfc.predict(test.drop(['Contact Master Status/Final Outcome','Acceptance Probability Score','Status'],axis=1))\n",
        "​\n",
        "#confusion_matrix(y_test,ypr)\n",
        "#tn,fp,fn,tp = confusion_matrix(y_test,ypr).ravel()\n",
        "#fn/len(ypr),fp/len(ypr),(tp+tn)/(tp+tn+fp+fn),tp,tn,fp,fn\n",
        "yprob = rfc.predict_proba(test.drop(['Contact Master Status/Final Outcome','Acceptance Probability Score','Status'],axis=1))[:,1]"
      ],
      "execution_count": null,
      "outputs": []
    }
  ]
}